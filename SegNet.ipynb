{
 "cells": [
  {
   "cell_type": "code",
   "execution_count": 1,
   "metadata": {},
   "outputs": [],
   "source": [
    "from package.model import *\n",
    "from package.function import *\n",
    "os.environ[\"CUDA_VISIBLE_DEVICES\"] = \"0\""
   ]
  },
  {
   "cell_type": "code",
   "execution_count": 2,
   "metadata": {},
   "outputs": [],
   "source": [
    "modeltype = 'SegNet'"
   ]
  },
  {
   "cell_type": "code",
   "execution_count": 3,
   "metadata": {},
   "outputs": [],
   "source": [
    "data_gen_args = dict(rotation_range=0.2,\n",
    "                     width_shift_range=0.05,\n",
    "                     height_shift_range=0.05,\n",
    "                     shear_range=0.05,\n",
    "                     zoom_range=0.05,\n",
    "                     horizontal_flip=True,\n",
    "                     fill_mode='nearest')"
   ]
  },
  {
   "cell_type": "code",
   "execution_count": 4,
   "metadata": {},
   "outputs": [
    {
     "name": "stdout",
     "output_type": "stream",
     "text": [
      "Found 47 images belonging to 1 classes.\n",
      "Found 47 images belonging to 1 classes.\n",
      "64/64 [==============================] - 24s 333ms/step - loss: 0.0072 - accuracy_within_05cm: 1.0000 - accuracy_within_1cm: 1.0000 - mean_error_cm: 4.1409e-05 - mean_io_u: 0.4959\n",
      "Validation loss: [0.007174565456807613, 1.0, 1.0, 4.1409242840018123e-05, 0.49589741230010986]\n",
      "Found 47 images belonging to 1 classes.\n",
      "Found 47 images belonging to 1 classes.\n",
      "64/64 [==============================] - 22s 347ms/step - loss: 0.0088 - accuracy_within_05cm: 1.0000 - accuracy_within_1cm: 1.0000 - mean_error_cm: 4.8492e-05 - mean_io_u_1: 0.4963\n",
      "Validation loss: [0.008833476342260838, 1.0, 1.0, 4.849241304327734e-05, 0.4963069558143616]\n",
      "Found 47 images belonging to 1 classes.\n",
      "Found 47 images belonging to 1 classes.\n",
      "64/64 [==============================] - 22s 341ms/step - loss: 0.0092 - accuracy_within_05cm: 1.0000 - accuracy_within_1cm: 1.0000 - mean_error_cm: 5.4465e-05 - mean_io_u_2: 0.4977\n",
      "Validation loss: [0.00916311889886856, 1.0, 1.0, 5.446517388918437e-05, 0.49766722321510315]\n",
      "Found 48 images belonging to 1 classes.\n",
      "Found 48 images belonging to 1 classes.\n",
      "64/64 [==============================] - 21s 332ms/step - loss: 0.0103 - accuracy_within_05cm: 1.0000 - accuracy_within_1cm: 1.0000 - mean_error_cm: 7.7495e-05 - mean_io_u_3: 0.4960\n",
      "Validation loss: [0.010294906795024872, 1.0, 1.0, 7.749503129161894e-05, 0.4959726631641388]\n",
      "Found 48 images belonging to 1 classes.\n",
      "Found 48 images belonging to 1 classes.\n",
      "64/64 [==============================] - 22s 335ms/step - loss: 0.0095 - accuracy_within_05cm: 1.0000 - accuracy_within_1cm: 1.0000 - mean_error_cm: 6.0404e-05 - mean_io_u_4: 0.4962\n",
      "Validation loss: [0.009500249288976192, 1.0, 1.0, 6.040392690920271e-05, 0.496232271194458]\n"
     ]
    }
   ],
   "source": [
    "# 評估驗證集\n",
    "for fold in range(1,6):\n",
    "    # Validation data generator\n",
    "    valGene = trainGenerator(batch_size=10,\n",
    "                            train_path=f'ETT_v3/Fold{fold}',\n",
    "                            image_folder='val',\n",
    "                            mask_folder='valannot',\n",
    "                            aug_dict=data_gen_args,\n",
    "                            save_to_dir=None)\n",
    "    model = segnet()\n",
    "    model.load_weights(f\"best_model/{modeltype}/Fold{fold}.keras\")\n",
    "    model.compile(optimizer='adam', \n",
    "                  loss='binary_crossentropy',\n",
    "                  metrics=[accuracy_within_05cm, accuracy_within_1cm,mean_error_cm,MeanIoU(num_classes=2)])\n",
    "    loss = model.evaluate(valGene, steps=64)\n",
    "    print('Validation loss:', loss)"
   ]
  },
  {
   "cell_type": "code",
   "execution_count": 6,
   "metadata": {},
   "outputs": [
    {
     "name": "stdout",
     "output_type": "stream",
     "text": [
      "47/47 [==============================] - 16s 335ms/step - loss: 0.0058 - accuracy_within_05cm: 1.0000 - accuracy_within_1cm: 1.0000 - mean_error_cm: 3.8273e-05 - mean_io_u_5: 0.4963\n",
      "Validation loss: [0.00580968800932169, 1.0, 1.0, 3.8272894016699865e-05, 0.49625274538993835]\n",
      "47/47 [==============================] - 17s 347ms/step - loss: 0.0033 - accuracy_within_05cm: 1.0000 - accuracy_within_1cm: 1.0000 - mean_error_cm: 2.8121e-05 - mean_io_u_6: 0.4963\n",
      "Validation loss: [0.0032594173680990934, 1.0, 1.0, 2.812140701280441e-05, 0.4963196814060211]\n",
      "47/47 [==============================] - 16s 333ms/step - loss: 0.0042 - accuracy_within_05cm: 1.0000 - accuracy_within_1cm: 1.0000 - mean_error_cm: 3.4905e-05 - mean_io_u_7: 0.4985\n",
      "Validation loss: [0.00418904097750783, 1.0, 1.0, 3.4904667700175196e-05, 0.4984537363052368]\n",
      "48/48 [==============================] - 16s 336ms/step - loss: 0.0067 - accuracy_within_05cm: 1.0000 - accuracy_within_1cm: 1.0000 - mean_error_cm: 6.3643e-05 - mean_io_u_8: 0.4962\n",
      "Validation loss: [0.00674838200211525, 1.0, 1.0, 6.364343425957486e-05, 0.49622178077697754]\n",
      "48/48 [==============================] - 16s 334ms/step - loss: 0.0094 - accuracy_within_05cm: 1.0000 - accuracy_within_1cm: 1.0000 - mean_error_cm: 6.0571e-05 - mean_io_u_9: 0.4963\n",
      "Validation loss: [0.00942323449999094, 1.0, 1.0, 6.0570640926016495e-05, 0.4962756633758545]\n"
     ]
    }
   ],
   "source": [
    "# 評估測試集\n",
    "for fold in range(1,6):\n",
    "    testGene = test_aug_generator(fold)\n",
    "    model = segnet()\n",
    "    model.load_weights(f\"best_model/{modeltype}/Fold{fold}.keras\")\n",
    "    model.compile(optimizer='adam', \n",
    "                  loss='binary_crossentropy',\n",
    "                  metrics=[accuracy_within_05cm, accuracy_within_1cm,mean_error_cm,MeanIoU(num_classes=2)])\n",
    "    steps = count_files(f\"ETT_predict/{modeltype}/Fold{fold}\")\n",
    "    loss = model.evaluate(valGene, steps=steps)\n",
    "    print('Validation loss:', loss)"
   ]
  },
  {
   "cell_type": "code",
   "execution_count": 5,
   "metadata": {},
   "outputs": [
    {
     "name": "stdout",
     "output_type": "stream",
     "text": [
      "47/47 [==============================] - 1s 15ms/step\n"
     ]
    },
    {
     "name": "stderr",
     "output_type": "stream",
     "text": [
      "d:\\學業\\碩士課程\\機器瘸習\\分組作業\\專題二\\正式版\\package\\function.py:142: UserWarning: ETT_predict/SegNet/Fold1\\1_predict.png is a low contrast image\n",
      "  io.imsave(os.path.join(save_path, f\"{i}_predict.png\"), img)\n",
      "d:\\學業\\碩士課程\\機器瘸習\\分組作業\\專題二\\正式版\\package\\function.py:142: UserWarning: ETT_predict/SegNet/Fold1\\2_predict.png is a low contrast image\n",
      "  io.imsave(os.path.join(save_path, f\"{i}_predict.png\"), img)\n",
      "d:\\學業\\碩士課程\\機器瘸習\\分組作業\\專題二\\正式版\\package\\function.py:142: UserWarning: ETT_predict/SegNet/Fold1\\4_predict.png is a low contrast image\n",
      "  io.imsave(os.path.join(save_path, f\"{i}_predict.png\"), img)\n",
      "d:\\學業\\碩士課程\\機器瘸習\\分組作業\\專題二\\正式版\\package\\function.py:142: UserWarning: ETT_predict/SegNet/Fold1\\6_predict.png is a low contrast image\n",
      "  io.imsave(os.path.join(save_path, f\"{i}_predict.png\"), img)\n",
      "d:\\學業\\碩士課程\\機器瘸習\\分組作業\\專題二\\正式版\\package\\function.py:142: UserWarning: ETT_predict/SegNet/Fold1\\11_predict.png is a low contrast image\n",
      "  io.imsave(os.path.join(save_path, f\"{i}_predict.png\"), img)\n",
      "d:\\學業\\碩士課程\\機器瘸習\\分組作業\\專題二\\正式版\\package\\function.py:142: UserWarning: ETT_predict/SegNet/Fold1\\13_predict.png is a low contrast image\n",
      "  io.imsave(os.path.join(save_path, f\"{i}_predict.png\"), img)\n",
      "d:\\學業\\碩士課程\\機器瘸習\\分組作業\\專題二\\正式版\\package\\function.py:142: UserWarning: ETT_predict/SegNet/Fold1\\15_predict.png is a low contrast image\n",
      "  io.imsave(os.path.join(save_path, f\"{i}_predict.png\"), img)\n",
      "d:\\學業\\碩士課程\\機器瘸習\\分組作業\\專題二\\正式版\\package\\function.py:142: UserWarning: ETT_predict/SegNet/Fold1\\16_predict.png is a low contrast image\n",
      "  io.imsave(os.path.join(save_path, f\"{i}_predict.png\"), img)\n",
      "d:\\學業\\碩士課程\\機器瘸習\\分組作業\\專題二\\正式版\\package\\function.py:142: UserWarning: ETT_predict/SegNet/Fold1\\18_predict.png is a low contrast image\n",
      "  io.imsave(os.path.join(save_path, f\"{i}_predict.png\"), img)\n",
      "d:\\學業\\碩士課程\\機器瘸習\\分組作業\\專題二\\正式版\\package\\function.py:142: UserWarning: ETT_predict/SegNet/Fold1\\25_predict.png is a low contrast image\n",
      "  io.imsave(os.path.join(save_path, f\"{i}_predict.png\"), img)\n",
      "d:\\學業\\碩士課程\\機器瘸習\\分組作業\\專題二\\正式版\\package\\function.py:142: UserWarning: ETT_predict/SegNet/Fold1\\32_predict.png is a low contrast image\n",
      "  io.imsave(os.path.join(save_path, f\"{i}_predict.png\"), img)\n",
      "d:\\學業\\碩士課程\\機器瘸習\\分組作業\\專題二\\正式版\\package\\function.py:142: UserWarning: ETT_predict/SegNet/Fold1\\33_predict.png is a low contrast image\n",
      "  io.imsave(os.path.join(save_path, f\"{i}_predict.png\"), img)\n",
      "d:\\學業\\碩士課程\\機器瘸習\\分組作業\\專題二\\正式版\\package\\function.py:142: UserWarning: ETT_predict/SegNet/Fold1\\35_predict.png is a low contrast image\n",
      "  io.imsave(os.path.join(save_path, f\"{i}_predict.png\"), img)\n",
      "d:\\學業\\碩士課程\\機器瘸習\\分組作業\\專題二\\正式版\\package\\function.py:142: UserWarning: ETT_predict/SegNet/Fold1\\38_predict.png is a low contrast image\n",
      "  io.imsave(os.path.join(save_path, f\"{i}_predict.png\"), img)\n",
      "d:\\學業\\碩士課程\\機器瘸習\\分組作業\\專題二\\正式版\\package\\function.py:142: UserWarning: ETT_predict/SegNet/Fold1\\39_predict.png is a low contrast image\n",
      "  io.imsave(os.path.join(save_path, f\"{i}_predict.png\"), img)\n",
      "d:\\學業\\碩士課程\\機器瘸習\\分組作業\\專題二\\正式版\\package\\function.py:142: UserWarning: ETT_predict/SegNet/Fold1\\41_predict.png is a low contrast image\n",
      "  io.imsave(os.path.join(save_path, f\"{i}_predict.png\"), img)\n"
     ]
    },
    {
     "name": "stdout",
     "output_type": "stream",
     "text": [
      "47/47 [==============================] - 0s 7ms/step\n"
     ]
    },
    {
     "name": "stderr",
     "output_type": "stream",
     "text": [
      "d:\\學業\\碩士課程\\機器瘸習\\分組作業\\專題二\\正式版\\package\\function.py:142: UserWarning: ETT_predict/SegNet/Fold2\\1_predict.png is a low contrast image\n",
      "  io.imsave(os.path.join(save_path, f\"{i}_predict.png\"), img)\n",
      "d:\\學業\\碩士課程\\機器瘸習\\分組作業\\專題二\\正式版\\package\\function.py:142: UserWarning: ETT_predict/SegNet/Fold2\\4_predict.png is a low contrast image\n",
      "  io.imsave(os.path.join(save_path, f\"{i}_predict.png\"), img)\n",
      "d:\\學業\\碩士課程\\機器瘸習\\分組作業\\專題二\\正式版\\package\\function.py:142: UserWarning: ETT_predict/SegNet/Fold2\\9_predict.png is a low contrast image\n",
      "  io.imsave(os.path.join(save_path, f\"{i}_predict.png\"), img)\n",
      "d:\\學業\\碩士課程\\機器瘸習\\分組作業\\專題二\\正式版\\package\\function.py:142: UserWarning: ETT_predict/SegNet/Fold2\\11_predict.png is a low contrast image\n",
      "  io.imsave(os.path.join(save_path, f\"{i}_predict.png\"), img)\n",
      "d:\\學業\\碩士課程\\機器瘸習\\分組作業\\專題二\\正式版\\package\\function.py:142: UserWarning: ETT_predict/SegNet/Fold2\\13_predict.png is a low contrast image\n",
      "  io.imsave(os.path.join(save_path, f\"{i}_predict.png\"), img)\n",
      "d:\\學業\\碩士課程\\機器瘸習\\分組作業\\專題二\\正式版\\package\\function.py:142: UserWarning: ETT_predict/SegNet/Fold2\\14_predict.png is a low contrast image\n",
      "  io.imsave(os.path.join(save_path, f\"{i}_predict.png\"), img)\n",
      "d:\\學業\\碩士課程\\機器瘸習\\分組作業\\專題二\\正式版\\package\\function.py:142: UserWarning: ETT_predict/SegNet/Fold2\\15_predict.png is a low contrast image\n",
      "  io.imsave(os.path.join(save_path, f\"{i}_predict.png\"), img)\n",
      "d:\\學業\\碩士課程\\機器瘸習\\分組作業\\專題二\\正式版\\package\\function.py:142: UserWarning: ETT_predict/SegNet/Fold2\\20_predict.png is a low contrast image\n",
      "  io.imsave(os.path.join(save_path, f\"{i}_predict.png\"), img)\n",
      "d:\\學業\\碩士課程\\機器瘸習\\分組作業\\專題二\\正式版\\package\\function.py:142: UserWarning: ETT_predict/SegNet/Fold2\\24_predict.png is a low contrast image\n",
      "  io.imsave(os.path.join(save_path, f\"{i}_predict.png\"), img)\n",
      "d:\\學業\\碩士課程\\機器瘸習\\分組作業\\專題二\\正式版\\package\\function.py:142: UserWarning: ETT_predict/SegNet/Fold2\\28_predict.png is a low contrast image\n",
      "  io.imsave(os.path.join(save_path, f\"{i}_predict.png\"), img)\n",
      "d:\\學業\\碩士課程\\機器瘸習\\分組作業\\專題二\\正式版\\package\\function.py:142: UserWarning: ETT_predict/SegNet/Fold2\\29_predict.png is a low contrast image\n",
      "  io.imsave(os.path.join(save_path, f\"{i}_predict.png\"), img)\n",
      "d:\\學業\\碩士課程\\機器瘸習\\分組作業\\專題二\\正式版\\package\\function.py:142: UserWarning: ETT_predict/SegNet/Fold2\\36_predict.png is a low contrast image\n",
      "  io.imsave(os.path.join(save_path, f\"{i}_predict.png\"), img)\n",
      "d:\\學業\\碩士課程\\機器瘸習\\分組作業\\專題二\\正式版\\package\\function.py:142: UserWarning: ETT_predict/SegNet/Fold2\\39_predict.png is a low contrast image\n",
      "  io.imsave(os.path.join(save_path, f\"{i}_predict.png\"), img)\n",
      "d:\\學業\\碩士課程\\機器瘸習\\分組作業\\專題二\\正式版\\package\\function.py:142: UserWarning: ETT_predict/SegNet/Fold2\\41_predict.png is a low contrast image\n",
      "  io.imsave(os.path.join(save_path, f\"{i}_predict.png\"), img)\n",
      "d:\\學業\\碩士課程\\機器瘸習\\分組作業\\專題二\\正式版\\package\\function.py:142: UserWarning: ETT_predict/SegNet/Fold2\\44_predict.png is a low contrast image\n",
      "  io.imsave(os.path.join(save_path, f\"{i}_predict.png\"), img)\n",
      "d:\\學業\\碩士課程\\機器瘸習\\分組作業\\專題二\\正式版\\package\\function.py:142: UserWarning: ETT_predict/SegNet/Fold2\\45_predict.png is a low contrast image\n",
      "  io.imsave(os.path.join(save_path, f\"{i}_predict.png\"), img)\n"
     ]
    },
    {
     "name": "stdout",
     "output_type": "stream",
     "text": [
      "47/47 [==============================] - 0s 7ms/step\n"
     ]
    },
    {
     "name": "stderr",
     "output_type": "stream",
     "text": [
      "d:\\學業\\碩士課程\\機器瘸習\\分組作業\\專題二\\正式版\\package\\function.py:142: UserWarning: ETT_predict/SegNet/Fold3\\2_predict.png is a low contrast image\n",
      "  io.imsave(os.path.join(save_path, f\"{i}_predict.png\"), img)\n",
      "d:\\學業\\碩士課程\\機器瘸習\\分組作業\\專題二\\正式版\\package\\function.py:142: UserWarning: ETT_predict/SegNet/Fold3\\7_predict.png is a low contrast image\n",
      "  io.imsave(os.path.join(save_path, f\"{i}_predict.png\"), img)\n",
      "d:\\學業\\碩士課程\\機器瘸習\\分組作業\\專題二\\正式版\\package\\function.py:142: UserWarning: ETT_predict/SegNet/Fold3\\10_predict.png is a low contrast image\n",
      "  io.imsave(os.path.join(save_path, f\"{i}_predict.png\"), img)\n",
      "d:\\學業\\碩士課程\\機器瘸習\\分組作業\\專題二\\正式版\\package\\function.py:142: UserWarning: ETT_predict/SegNet/Fold3\\11_predict.png is a low contrast image\n",
      "  io.imsave(os.path.join(save_path, f\"{i}_predict.png\"), img)\n",
      "d:\\學業\\碩士課程\\機器瘸習\\分組作業\\專題二\\正式版\\package\\function.py:142: UserWarning: ETT_predict/SegNet/Fold3\\14_predict.png is a low contrast image\n",
      "  io.imsave(os.path.join(save_path, f\"{i}_predict.png\"), img)\n",
      "d:\\學業\\碩士課程\\機器瘸習\\分組作業\\專題二\\正式版\\package\\function.py:142: UserWarning: ETT_predict/SegNet/Fold3\\15_predict.png is a low contrast image\n",
      "  io.imsave(os.path.join(save_path, f\"{i}_predict.png\"), img)\n",
      "d:\\學業\\碩士課程\\機器瘸習\\分組作業\\專題二\\正式版\\package\\function.py:142: UserWarning: ETT_predict/SegNet/Fold3\\16_predict.png is a low contrast image\n",
      "  io.imsave(os.path.join(save_path, f\"{i}_predict.png\"), img)\n",
      "d:\\學業\\碩士課程\\機器瘸習\\分組作業\\專題二\\正式版\\package\\function.py:142: UserWarning: ETT_predict/SegNet/Fold3\\17_predict.png is a low contrast image\n",
      "  io.imsave(os.path.join(save_path, f\"{i}_predict.png\"), img)\n",
      "d:\\學業\\碩士課程\\機器瘸習\\分組作業\\專題二\\正式版\\package\\function.py:142: UserWarning: ETT_predict/SegNet/Fold3\\18_predict.png is a low contrast image\n",
      "  io.imsave(os.path.join(save_path, f\"{i}_predict.png\"), img)\n",
      "d:\\學業\\碩士課程\\機器瘸習\\分組作業\\專題二\\正式版\\package\\function.py:142: UserWarning: ETT_predict/SegNet/Fold3\\21_predict.png is a low contrast image\n",
      "  io.imsave(os.path.join(save_path, f\"{i}_predict.png\"), img)\n",
      "d:\\學業\\碩士課程\\機器瘸習\\分組作業\\專題二\\正式版\\package\\function.py:142: UserWarning: ETT_predict/SegNet/Fold3\\22_predict.png is a low contrast image\n",
      "  io.imsave(os.path.join(save_path, f\"{i}_predict.png\"), img)\n",
      "d:\\學業\\碩士課程\\機器瘸習\\分組作業\\專題二\\正式版\\package\\function.py:142: UserWarning: ETT_predict/SegNet/Fold3\\29_predict.png is a low contrast image\n",
      "  io.imsave(os.path.join(save_path, f\"{i}_predict.png\"), img)\n",
      "d:\\學業\\碩士課程\\機器瘸習\\分組作業\\專題二\\正式版\\package\\function.py:142: UserWarning: ETT_predict/SegNet/Fold3\\30_predict.png is a low contrast image\n",
      "  io.imsave(os.path.join(save_path, f\"{i}_predict.png\"), img)\n",
      "d:\\學業\\碩士課程\\機器瘸習\\分組作業\\專題二\\正式版\\package\\function.py:142: UserWarning: ETT_predict/SegNet/Fold3\\34_predict.png is a low contrast image\n",
      "  io.imsave(os.path.join(save_path, f\"{i}_predict.png\"), img)\n",
      "d:\\學業\\碩士課程\\機器瘸習\\分組作業\\專題二\\正式版\\package\\function.py:142: UserWarning: ETT_predict/SegNet/Fold3\\36_predict.png is a low contrast image\n",
      "  io.imsave(os.path.join(save_path, f\"{i}_predict.png\"), img)\n",
      "d:\\學業\\碩士課程\\機器瘸習\\分組作業\\專題二\\正式版\\package\\function.py:142: UserWarning: ETT_predict/SegNet/Fold3\\37_predict.png is a low contrast image\n",
      "  io.imsave(os.path.join(save_path, f\"{i}_predict.png\"), img)\n",
      "d:\\學業\\碩士課程\\機器瘸習\\分組作業\\專題二\\正式版\\package\\function.py:142: UserWarning: ETT_predict/SegNet/Fold3\\38_predict.png is a low contrast image\n",
      "  io.imsave(os.path.join(save_path, f\"{i}_predict.png\"), img)\n",
      "d:\\學業\\碩士課程\\機器瘸習\\分組作業\\專題二\\正式版\\package\\function.py:142: UserWarning: ETT_predict/SegNet/Fold3\\39_predict.png is a low contrast image\n",
      "  io.imsave(os.path.join(save_path, f\"{i}_predict.png\"), img)\n",
      "d:\\學業\\碩士課程\\機器瘸習\\分組作業\\專題二\\正式版\\package\\function.py:142: UserWarning: ETT_predict/SegNet/Fold3\\42_predict.png is a low contrast image\n",
      "  io.imsave(os.path.join(save_path, f\"{i}_predict.png\"), img)\n",
      "d:\\學業\\碩士課程\\機器瘸習\\分組作業\\專題二\\正式版\\package\\function.py:142: UserWarning: ETT_predict/SegNet/Fold3\\44_predict.png is a low contrast image\n",
      "  io.imsave(os.path.join(save_path, f\"{i}_predict.png\"), img)\n",
      "d:\\學業\\碩士課程\\機器瘸習\\分組作業\\專題二\\正式版\\package\\function.py:142: UserWarning: ETT_predict/SegNet/Fold3\\45_predict.png is a low contrast image\n",
      "  io.imsave(os.path.join(save_path, f\"{i}_predict.png\"), img)\n"
     ]
    },
    {
     "name": "stdout",
     "output_type": "stream",
     "text": [
      "48/48 [==============================] - 0s 7ms/step\n"
     ]
    },
    {
     "name": "stderr",
     "output_type": "stream",
     "text": [
      "d:\\學業\\碩士課程\\機器瘸習\\分組作業\\專題二\\正式版\\package\\function.py:142: UserWarning: ETT_predict/SegNet/Fold4\\5_predict.png is a low contrast image\n",
      "  io.imsave(os.path.join(save_path, f\"{i}_predict.png\"), img)\n",
      "d:\\學業\\碩士課程\\機器瘸習\\分組作業\\專題二\\正式版\\package\\function.py:142: UserWarning: ETT_predict/SegNet/Fold4\\11_predict.png is a low contrast image\n",
      "  io.imsave(os.path.join(save_path, f\"{i}_predict.png\"), img)\n",
      "d:\\學業\\碩士課程\\機器瘸習\\分組作業\\專題二\\正式版\\package\\function.py:142: UserWarning: ETT_predict/SegNet/Fold4\\39_predict.png is a low contrast image\n",
      "  io.imsave(os.path.join(save_path, f\"{i}_predict.png\"), img)\n",
      "d:\\學業\\碩士課程\\機器瘸習\\分組作業\\專題二\\正式版\\package\\function.py:142: UserWarning: ETT_predict/SegNet/Fold4\\46_predict.png is a low contrast image\n",
      "  io.imsave(os.path.join(save_path, f\"{i}_predict.png\"), img)\n"
     ]
    },
    {
     "name": "stdout",
     "output_type": "stream",
     "text": [
      "48/48 [==============================] - 0s 7ms/step\n"
     ]
    },
    {
     "name": "stderr",
     "output_type": "stream",
     "text": [
      "d:\\學業\\碩士課程\\機器瘸習\\分組作業\\專題二\\正式版\\package\\function.py:142: UserWarning: ETT_predict/SegNet/Fold5\\7_predict.png is a low contrast image\n",
      "  io.imsave(os.path.join(save_path, f\"{i}_predict.png\"), img)\n",
      "d:\\學業\\碩士課程\\機器瘸習\\分組作業\\專題二\\正式版\\package\\function.py:142: UserWarning: ETT_predict/SegNet/Fold5\\9_predict.png is a low contrast image\n",
      "  io.imsave(os.path.join(save_path, f\"{i}_predict.png\"), img)\n",
      "d:\\學業\\碩士課程\\機器瘸習\\分組作業\\專題二\\正式版\\package\\function.py:142: UserWarning: ETT_predict/SegNet/Fold5\\10_predict.png is a low contrast image\n",
      "  io.imsave(os.path.join(save_path, f\"{i}_predict.png\"), img)\n",
      "d:\\學業\\碩士課程\\機器瘸習\\分組作業\\專題二\\正式版\\package\\function.py:142: UserWarning: ETT_predict/SegNet/Fold5\\11_predict.png is a low contrast image\n",
      "  io.imsave(os.path.join(save_path, f\"{i}_predict.png\"), img)\n",
      "d:\\學業\\碩士課程\\機器瘸習\\分組作業\\專題二\\正式版\\package\\function.py:142: UserWarning: ETT_predict/SegNet/Fold5\\13_predict.png is a low contrast image\n",
      "  io.imsave(os.path.join(save_path, f\"{i}_predict.png\"), img)\n",
      "d:\\學業\\碩士課程\\機器瘸習\\分組作業\\專題二\\正式版\\package\\function.py:142: UserWarning: ETT_predict/SegNet/Fold5\\15_predict.png is a low contrast image\n",
      "  io.imsave(os.path.join(save_path, f\"{i}_predict.png\"), img)\n",
      "d:\\學業\\碩士課程\\機器瘸習\\分組作業\\專題二\\正式版\\package\\function.py:142: UserWarning: ETT_predict/SegNet/Fold5\\16_predict.png is a low contrast image\n",
      "  io.imsave(os.path.join(save_path, f\"{i}_predict.png\"), img)\n",
      "d:\\學業\\碩士課程\\機器瘸習\\分組作業\\專題二\\正式版\\package\\function.py:142: UserWarning: ETT_predict/SegNet/Fold5\\17_predict.png is a low contrast image\n",
      "  io.imsave(os.path.join(save_path, f\"{i}_predict.png\"), img)\n",
      "d:\\學業\\碩士課程\\機器瘸習\\分組作業\\專題二\\正式版\\package\\function.py:142: UserWarning: ETT_predict/SegNet/Fold5\\22_predict.png is a low contrast image\n",
      "  io.imsave(os.path.join(save_path, f\"{i}_predict.png\"), img)\n",
      "d:\\學業\\碩士課程\\機器瘸習\\分組作業\\專題二\\正式版\\package\\function.py:142: UserWarning: ETT_predict/SegNet/Fold5\\23_predict.png is a low contrast image\n",
      "  io.imsave(os.path.join(save_path, f\"{i}_predict.png\"), img)\n",
      "d:\\學業\\碩士課程\\機器瘸習\\分組作業\\專題二\\正式版\\package\\function.py:142: UserWarning: ETT_predict/SegNet/Fold5\\24_predict.png is a low contrast image\n",
      "  io.imsave(os.path.join(save_path, f\"{i}_predict.png\"), img)\n",
      "d:\\學業\\碩士課程\\機器瘸習\\分組作業\\專題二\\正式版\\package\\function.py:142: UserWarning: ETT_predict/SegNet/Fold5\\25_predict.png is a low contrast image\n",
      "  io.imsave(os.path.join(save_path, f\"{i}_predict.png\"), img)\n",
      "d:\\學業\\碩士課程\\機器瘸習\\分組作業\\專題二\\正式版\\package\\function.py:142: UserWarning: ETT_predict/SegNet/Fold5\\27_predict.png is a low contrast image\n",
      "  io.imsave(os.path.join(save_path, f\"{i}_predict.png\"), img)\n",
      "d:\\學業\\碩士課程\\機器瘸習\\分組作業\\專題二\\正式版\\package\\function.py:142: UserWarning: ETT_predict/SegNet/Fold5\\28_predict.png is a low contrast image\n",
      "  io.imsave(os.path.join(save_path, f\"{i}_predict.png\"), img)\n",
      "d:\\學業\\碩士課程\\機器瘸習\\分組作業\\專題二\\正式版\\package\\function.py:142: UserWarning: ETT_predict/SegNet/Fold5\\29_predict.png is a low contrast image\n",
      "  io.imsave(os.path.join(save_path, f\"{i}_predict.png\"), img)\n",
      "d:\\學業\\碩士課程\\機器瘸習\\分組作業\\專題二\\正式版\\package\\function.py:142: UserWarning: ETT_predict/SegNet/Fold5\\30_predict.png is a low contrast image\n",
      "  io.imsave(os.path.join(save_path, f\"{i}_predict.png\"), img)\n",
      "d:\\學業\\碩士課程\\機器瘸習\\分組作業\\專題二\\正式版\\package\\function.py:142: UserWarning: ETT_predict/SegNet/Fold5\\31_predict.png is a low contrast image\n",
      "  io.imsave(os.path.join(save_path, f\"{i}_predict.png\"), img)\n",
      "d:\\學業\\碩士課程\\機器瘸習\\分組作業\\專題二\\正式版\\package\\function.py:142: UserWarning: ETT_predict/SegNet/Fold5\\32_predict.png is a low contrast image\n",
      "  io.imsave(os.path.join(save_path, f\"{i}_predict.png\"), img)\n",
      "d:\\學業\\碩士課程\\機器瘸習\\分組作業\\專題二\\正式版\\package\\function.py:142: UserWarning: ETT_predict/SegNet/Fold5\\33_predict.png is a low contrast image\n",
      "  io.imsave(os.path.join(save_path, f\"{i}_predict.png\"), img)\n",
      "d:\\學業\\碩士課程\\機器瘸習\\分組作業\\專題二\\正式版\\package\\function.py:142: UserWarning: ETT_predict/SegNet/Fold5\\35_predict.png is a low contrast image\n",
      "  io.imsave(os.path.join(save_path, f\"{i}_predict.png\"), img)\n",
      "d:\\學業\\碩士課程\\機器瘸習\\分組作業\\專題二\\正式版\\package\\function.py:142: UserWarning: ETT_predict/SegNet/Fold5\\36_predict.png is a low contrast image\n",
      "  io.imsave(os.path.join(save_path, f\"{i}_predict.png\"), img)\n",
      "d:\\學業\\碩士課程\\機器瘸習\\分組作業\\專題二\\正式版\\package\\function.py:142: UserWarning: ETT_predict/SegNet/Fold5\\40_predict.png is a low contrast image\n",
      "  io.imsave(os.path.join(save_path, f\"{i}_predict.png\"), img)\n",
      "d:\\學業\\碩士課程\\機器瘸習\\分組作業\\專題二\\正式版\\package\\function.py:142: UserWarning: ETT_predict/SegNet/Fold5\\42_predict.png is a low contrast image\n",
      "  io.imsave(os.path.join(save_path, f\"{i}_predict.png\"), img)\n",
      "d:\\學業\\碩士課程\\機器瘸習\\分組作業\\專題二\\正式版\\package\\function.py:142: UserWarning: ETT_predict/SegNet/Fold5\\44_predict.png is a low contrast image\n",
      "  io.imsave(os.path.join(save_path, f\"{i}_predict.png\"), img)\n",
      "d:\\學業\\碩士課程\\機器瘸習\\分組作業\\專題二\\正式版\\package\\function.py:142: UserWarning: ETT_predict/SegNet/Fold5\\45_predict.png is a low contrast image\n",
      "  io.imsave(os.path.join(save_path, f\"{i}_predict.png\"), img)\n",
      "d:\\學業\\碩士課程\\機器瘸習\\分組作業\\專題二\\正式版\\package\\function.py:142: UserWarning: ETT_predict/SegNet/Fold5\\46_predict.png is a low contrast image\n",
      "  io.imsave(os.path.join(save_path, f\"{i}_predict.png\"), img)\n"
     ]
    }
   ],
   "source": [
    "# 預測 mask\n",
    "for fold in range(1,6):\n",
    "    testGene = test_aug_generator(fold)\n",
    "    model = segnet()\n",
    "    model.load_weights(f\"best_model/{modeltype}/Fold{fold}.keras\")\n",
    "    results = model.predict(testGene,verbose=1)\n",
    "    saveResult(f\"ETT_predict/{modeltype}/Fold{fold}\",results)"
   ]
  }
 ],
 "metadata": {
  "kernelspec": {
   "display_name": "Python 3",
   "language": "python",
   "name": "python3"
  },
  "language_info": {
   "codemirror_mode": {
    "name": "ipython",
    "version": 3
   },
   "file_extension": ".py",
   "mimetype": "text/x-python",
   "name": "python",
   "nbconvert_exporter": "python",
   "pygments_lexer": "ipython3",
   "version": "3.10.14"
  }
 },
 "nbformat": 4,
 "nbformat_minor": 2
}
