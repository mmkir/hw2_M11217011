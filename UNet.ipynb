{
 "cells": [
  {
   "cell_type": "code",
   "execution_count": 1,
   "metadata": {},
   "outputs": [],
   "source": [
    "from package.model import *\n",
    "from package.function import *\n",
    "os.environ[\"CUDA_VISIBLE_DEVICES\"] = \"0\""
   ]
  },
  {
   "cell_type": "code",
   "execution_count": 2,
   "metadata": {},
   "outputs": [],
   "source": [
    "modeltype = 'UNet'"
   ]
  },
  {
   "cell_type": "code",
   "execution_count": 3,
   "metadata": {},
   "outputs": [],
   "source": [
    "data_gen_args = dict(rotation_range=0.2,\n",
    "                     width_shift_range=0.05,\n",
    "                     height_shift_range=0.05,\n",
    "                     shear_range=0.05,\n",
    "                     zoom_range=0.05,\n",
    "                     horizontal_flip=True,\n",
    "                     fill_mode='nearest')\n"
   ]
  },
  {
   "cell_type": "code",
   "execution_count": 4,
   "metadata": {},
   "outputs": [
    {
     "name": "stdout",
     "output_type": "stream",
     "text": [
      "Found 47 images belonging to 1 classes.\n",
      "Found 47 images belonging to 1 classes.\n",
      "64/64 [==============================] - 33s 386ms/step - loss: 0.0126 - accuracy_within_05cm: 1.0000 - accuracy_within_1cm: 1.0000 - mean_error_cm: 1.1218e-04 - mean_io_u_1: 0.4959\n",
      "Validation loss: [0.012638221494853497, 1.0, 1.0, 0.00011217936116736382, 0.49589741230010986]\n",
      "Found 47 images belonging to 1 classes.\n",
      "Found 47 images belonging to 1 classes.\n",
      "64/64 [==============================] - 23s 349ms/step - loss: 0.0101 - accuracy_within_05cm: 1.0000 - accuracy_within_1cm: 1.0000 - mean_error_cm: 8.4793e-05 - mean_io_u_3: 0.4963\n",
      "Validation loss: [0.0101326247677207, 1.0, 1.0, 8.479255484417081e-05, 0.4963069558143616]\n",
      "Found 47 images belonging to 1 classes.\n",
      "Found 47 images belonging to 1 classes.\n",
      "64/64 [==============================] - 23s 355ms/step - loss: 0.0496 - accuracy_within_05cm: 1.0000 - accuracy_within_1cm: 1.0000 - mean_error_cm: 3.1891e-04 - mean_io_u_5: 0.4959\n",
      "Validation loss: [0.04958781972527504, 1.0, 1.0, 0.00031890691025182605, 0.4958794116973877]\n",
      "Found 48 images belonging to 1 classes.\n",
      "Found 48 images belonging to 1 classes.\n",
      "64/64 [==============================] - 25s 386ms/step - loss: 0.0082 - accuracy_within_05cm: 1.0000 - accuracy_within_1cm: 1.0000 - mean_error_cm: 6.9664e-05 - mean_io_u_7: 0.4960\n",
      "Validation loss: [0.00824219174683094, 1.0, 1.0, 6.966443470446393e-05, 0.4959726631641388]\n",
      "Found 48 images belonging to 1 classes.\n",
      "Found 48 images belonging to 1 classes.\n",
      "64/64 [==============================] - 22s 344ms/step - loss: 0.0087 - accuracy_within_05cm: 1.0000 - accuracy_within_1cm: 1.0000 - mean_error_cm: 7.5658e-05 - mean_io_u_9: 0.4962\n",
      "Validation loss: [0.008670462295413017, 1.0, 1.0, 7.565754640381783e-05, 0.496232271194458]\n"
     ]
    }
   ],
   "source": [
    "# 評估驗證集\n",
    "for fold in range(1,6):\n",
    "    # Validation data generator\n",
    "    valGene = trainGenerator(batch_size=10,\n",
    "                            train_path=f'ETT_v3/Fold{fold}',\n",
    "                            image_folder='val',\n",
    "                            mask_folder='valannot',\n",
    "                            aug_dict=data_gen_args,\n",
    "                            save_to_dir=None)\n",
    "    model = unet()\n",
    "    model.load_weights(f\"best_model/{modeltype}/Fold{fold}.keras\")\n",
    "    model.compile(optimizer='adam', \n",
    "                  loss='binary_crossentropy',\n",
    "                  metrics=[accuracy_within_05cm, accuracy_within_1cm,mean_error_cm,MeanIoU(num_classes=2)])\n",
    "    loss = model.evaluate(valGene, steps=64)\n",
    "    print('Validation loss:', loss)"
   ]
  },
  {
   "cell_type": "code",
   "execution_count": 6,
   "metadata": {},
   "outputs": [
    {
     "name": "stdout",
     "output_type": "stream",
     "text": [
      "47/47 [==============================] - 17s 342ms/step - loss: 0.0111 - accuracy_within_05cm: 1.0000 - accuracy_within_1cm: 1.0000 - mean_error_cm: 1.0580e-04 - mean_io_u_16: 0.4963\n",
      "Validation loss: [0.011104186065495014, 1.0, 1.0, 0.00010580030357232317, 0.49625274538993835]\n",
      "47/47 [==============================] - 16s 330ms/step - loss: 0.0072 - accuracy_within_05cm: 1.0000 - accuracy_within_1cm: 1.0000 - mean_error_cm: 6.7365e-05 - mean_io_u_18: 0.4962\n",
      "Validation loss: [0.0072205946780741215, 1.0, 1.0, 6.736535578966141e-05, 0.496246874332428]\n",
      "47/47 [==============================] - 16s 339ms/step - loss: 0.0466 - accuracy_within_05cm: 1.0000 - accuracy_within_1cm: 1.0000 - mean_error_cm: 3.0926e-04 - mean_io_u_20: 0.4962\n",
      "Validation loss: [0.0465928353369236, 1.0, 1.0, 0.0003092645783908665, 0.4962370991706848]\n",
      "48/48 [==============================] - 17s 340ms/step - loss: 0.0057 - accuracy_within_05cm: 1.0000 - accuracy_within_1cm: 1.0000 - mean_error_cm: 5.7405e-05 - mean_io_u_22: 0.4962\n",
      "Validation loss: [0.005657006520777941, 1.0, 1.0, 5.7405224652029574e-05, 0.49622178077697754]\n",
      "48/48 [==============================] - 17s 339ms/step - loss: 0.0085 - accuracy_within_05cm: 1.0000 - accuracy_within_1cm: 1.0000 - mean_error_cm: 7.4763e-05 - mean_io_u_24: 0.4963\n",
      "Validation loss: [0.008541572839021683, 1.0, 1.0, 7.47633894206956e-05, 0.4962756633758545]\n"
     ]
    }
   ],
   "source": [
    "# 評估測試集\n",
    "for fold in range(1,6):\n",
    "    testGene = test_aug_generator(fold)\n",
    "    model = unet()\n",
    "    model.load_weights(f\"best_model/{modeltype}/Fold{fold}.keras\")\n",
    "    model.compile(optimizer='adam', \n",
    "                  loss='binary_crossentropy',\n",
    "                  metrics=[accuracy_within_05cm, accuracy_within_1cm,mean_error_cm,MeanIoU(num_classes=2)])\n",
    "    steps = count_files(f\"ETT_predict/{modeltype}/Fold{fold}\")\n",
    "    loss = model.evaluate(valGene, steps=steps)\n",
    "    print('Validation loss:', loss)"
   ]
  },
  {
   "cell_type": "code",
   "execution_count": 5,
   "metadata": {},
   "outputs": [
    {
     "name": "stdout",
     "output_type": "stream",
     "text": [
      "47/47 [==============================] - 2s 24ms/step\n",
      "47/47 [==============================] - 1s 15ms/step\n",
      "47/47 [==============================] - 1s 15ms/step\n"
     ]
    },
    {
     "name": "stderr",
     "output_type": "stream",
     "text": [
      "d:\\學業\\碩士課程\\機器瘸習\\分組作業\\專題二\\正式版\\package\\function.py:142: UserWarning: ETT_predict/UNet/Fold3\\0_predict.png is a low contrast image\n",
      "  io.imsave(os.path.join(save_path, f\"{i}_predict.png\"), img)\n",
      "d:\\學業\\碩士課程\\機器瘸習\\分組作業\\專題二\\正式版\\package\\function.py:142: UserWarning: ETT_predict/UNet/Fold3\\1_predict.png is a low contrast image\n",
      "  io.imsave(os.path.join(save_path, f\"{i}_predict.png\"), img)\n",
      "d:\\學業\\碩士課程\\機器瘸習\\分組作業\\專題二\\正式版\\package\\function.py:142: UserWarning: ETT_predict/UNet/Fold3\\2_predict.png is a low contrast image\n",
      "  io.imsave(os.path.join(save_path, f\"{i}_predict.png\"), img)\n",
      "d:\\學業\\碩士課程\\機器瘸習\\分組作業\\專題二\\正式版\\package\\function.py:142: UserWarning: ETT_predict/UNet/Fold3\\3_predict.png is a low contrast image\n",
      "  io.imsave(os.path.join(save_path, f\"{i}_predict.png\"), img)\n",
      "d:\\學業\\碩士課程\\機器瘸習\\分組作業\\專題二\\正式版\\package\\function.py:142: UserWarning: ETT_predict/UNet/Fold3\\4_predict.png is a low contrast image\n",
      "  io.imsave(os.path.join(save_path, f\"{i}_predict.png\"), img)\n",
      "d:\\學業\\碩士課程\\機器瘸習\\分組作業\\專題二\\正式版\\package\\function.py:142: UserWarning: ETT_predict/UNet/Fold3\\5_predict.png is a low contrast image\n",
      "  io.imsave(os.path.join(save_path, f\"{i}_predict.png\"), img)\n",
      "d:\\學業\\碩士課程\\機器瘸習\\分組作業\\專題二\\正式版\\package\\function.py:142: UserWarning: ETT_predict/UNet/Fold3\\6_predict.png is a low contrast image\n",
      "  io.imsave(os.path.join(save_path, f\"{i}_predict.png\"), img)\n",
      "d:\\學業\\碩士課程\\機器瘸習\\分組作業\\專題二\\正式版\\package\\function.py:142: UserWarning: ETT_predict/UNet/Fold3\\7_predict.png is a low contrast image\n",
      "  io.imsave(os.path.join(save_path, f\"{i}_predict.png\"), img)\n",
      "d:\\學業\\碩士課程\\機器瘸習\\分組作業\\專題二\\正式版\\package\\function.py:142: UserWarning: ETT_predict/UNet/Fold3\\8_predict.png is a low contrast image\n",
      "  io.imsave(os.path.join(save_path, f\"{i}_predict.png\"), img)\n",
      "d:\\學業\\碩士課程\\機器瘸習\\分組作業\\專題二\\正式版\\package\\function.py:142: UserWarning: ETT_predict/UNet/Fold3\\9_predict.png is a low contrast image\n",
      "  io.imsave(os.path.join(save_path, f\"{i}_predict.png\"), img)\n",
      "d:\\學業\\碩士課程\\機器瘸習\\分組作業\\專題二\\正式版\\package\\function.py:142: UserWarning: ETT_predict/UNet/Fold3\\10_predict.png is a low contrast image\n",
      "  io.imsave(os.path.join(save_path, f\"{i}_predict.png\"), img)\n",
      "d:\\學業\\碩士課程\\機器瘸習\\分組作業\\專題二\\正式版\\package\\function.py:142: UserWarning: ETT_predict/UNet/Fold3\\11_predict.png is a low contrast image\n",
      "  io.imsave(os.path.join(save_path, f\"{i}_predict.png\"), img)\n",
      "d:\\學業\\碩士課程\\機器瘸習\\分組作業\\專題二\\正式版\\package\\function.py:142: UserWarning: ETT_predict/UNet/Fold3\\12_predict.png is a low contrast image\n",
      "  io.imsave(os.path.join(save_path, f\"{i}_predict.png\"), img)\n",
      "d:\\學業\\碩士課程\\機器瘸習\\分組作業\\專題二\\正式版\\package\\function.py:142: UserWarning: ETT_predict/UNet/Fold3\\13_predict.png is a low contrast image\n",
      "  io.imsave(os.path.join(save_path, f\"{i}_predict.png\"), img)\n",
      "d:\\學業\\碩士課程\\機器瘸習\\分組作業\\專題二\\正式版\\package\\function.py:142: UserWarning: ETT_predict/UNet/Fold3\\14_predict.png is a low contrast image\n",
      "  io.imsave(os.path.join(save_path, f\"{i}_predict.png\"), img)\n",
      "d:\\學業\\碩士課程\\機器瘸習\\分組作業\\專題二\\正式版\\package\\function.py:142: UserWarning: ETT_predict/UNet/Fold3\\15_predict.png is a low contrast image\n",
      "  io.imsave(os.path.join(save_path, f\"{i}_predict.png\"), img)\n",
      "d:\\學業\\碩士課程\\機器瘸習\\分組作業\\專題二\\正式版\\package\\function.py:142: UserWarning: ETT_predict/UNet/Fold3\\16_predict.png is a low contrast image\n",
      "  io.imsave(os.path.join(save_path, f\"{i}_predict.png\"), img)\n",
      "d:\\學業\\碩士課程\\機器瘸習\\分組作業\\專題二\\正式版\\package\\function.py:142: UserWarning: ETT_predict/UNet/Fold3\\17_predict.png is a low contrast image\n",
      "  io.imsave(os.path.join(save_path, f\"{i}_predict.png\"), img)\n",
      "d:\\學業\\碩士課程\\機器瘸習\\分組作業\\專題二\\正式版\\package\\function.py:142: UserWarning: ETT_predict/UNet/Fold3\\18_predict.png is a low contrast image\n",
      "  io.imsave(os.path.join(save_path, f\"{i}_predict.png\"), img)\n",
      "d:\\學業\\碩士課程\\機器瘸習\\分組作業\\專題二\\正式版\\package\\function.py:142: UserWarning: ETT_predict/UNet/Fold3\\19_predict.png is a low contrast image\n",
      "  io.imsave(os.path.join(save_path, f\"{i}_predict.png\"), img)\n",
      "d:\\學業\\碩士課程\\機器瘸習\\分組作業\\專題二\\正式版\\package\\function.py:142: UserWarning: ETT_predict/UNet/Fold3\\20_predict.png is a low contrast image\n",
      "  io.imsave(os.path.join(save_path, f\"{i}_predict.png\"), img)\n",
      "d:\\學業\\碩士課程\\機器瘸習\\分組作業\\專題二\\正式版\\package\\function.py:142: UserWarning: ETT_predict/UNet/Fold3\\21_predict.png is a low contrast image\n",
      "  io.imsave(os.path.join(save_path, f\"{i}_predict.png\"), img)\n",
      "d:\\學業\\碩士課程\\機器瘸習\\分組作業\\專題二\\正式版\\package\\function.py:142: UserWarning: ETT_predict/UNet/Fold3\\22_predict.png is a low contrast image\n",
      "  io.imsave(os.path.join(save_path, f\"{i}_predict.png\"), img)\n",
      "d:\\學業\\碩士課程\\機器瘸習\\分組作業\\專題二\\正式版\\package\\function.py:142: UserWarning: ETT_predict/UNet/Fold3\\23_predict.png is a low contrast image\n",
      "  io.imsave(os.path.join(save_path, f\"{i}_predict.png\"), img)\n",
      "d:\\學業\\碩士課程\\機器瘸習\\分組作業\\專題二\\正式版\\package\\function.py:142: UserWarning: ETT_predict/UNet/Fold3\\24_predict.png is a low contrast image\n",
      "  io.imsave(os.path.join(save_path, f\"{i}_predict.png\"), img)\n",
      "d:\\學業\\碩士課程\\機器瘸習\\分組作業\\專題二\\正式版\\package\\function.py:142: UserWarning: ETT_predict/UNet/Fold3\\25_predict.png is a low contrast image\n",
      "  io.imsave(os.path.join(save_path, f\"{i}_predict.png\"), img)\n",
      "d:\\學業\\碩士課程\\機器瘸習\\分組作業\\專題二\\正式版\\package\\function.py:142: UserWarning: ETT_predict/UNet/Fold3\\26_predict.png is a low contrast image\n",
      "  io.imsave(os.path.join(save_path, f\"{i}_predict.png\"), img)\n",
      "d:\\學業\\碩士課程\\機器瘸習\\分組作業\\專題二\\正式版\\package\\function.py:142: UserWarning: ETT_predict/UNet/Fold3\\27_predict.png is a low contrast image\n",
      "  io.imsave(os.path.join(save_path, f\"{i}_predict.png\"), img)\n",
      "d:\\學業\\碩士課程\\機器瘸習\\分組作業\\專題二\\正式版\\package\\function.py:142: UserWarning: ETT_predict/UNet/Fold3\\28_predict.png is a low contrast image\n",
      "  io.imsave(os.path.join(save_path, f\"{i}_predict.png\"), img)\n",
      "d:\\學業\\碩士課程\\機器瘸習\\分組作業\\專題二\\正式版\\package\\function.py:142: UserWarning: ETT_predict/UNet/Fold3\\29_predict.png is a low contrast image\n",
      "  io.imsave(os.path.join(save_path, f\"{i}_predict.png\"), img)\n",
      "d:\\學業\\碩士課程\\機器瘸習\\分組作業\\專題二\\正式版\\package\\function.py:142: UserWarning: ETT_predict/UNet/Fold3\\30_predict.png is a low contrast image\n",
      "  io.imsave(os.path.join(save_path, f\"{i}_predict.png\"), img)\n",
      "d:\\學業\\碩士課程\\機器瘸習\\分組作業\\專題二\\正式版\\package\\function.py:142: UserWarning: ETT_predict/UNet/Fold3\\31_predict.png is a low contrast image\n",
      "  io.imsave(os.path.join(save_path, f\"{i}_predict.png\"), img)\n",
      "d:\\學業\\碩士課程\\機器瘸習\\分組作業\\專題二\\正式版\\package\\function.py:142: UserWarning: ETT_predict/UNet/Fold3\\32_predict.png is a low contrast image\n",
      "  io.imsave(os.path.join(save_path, f\"{i}_predict.png\"), img)\n",
      "d:\\學業\\碩士課程\\機器瘸習\\分組作業\\專題二\\正式版\\package\\function.py:142: UserWarning: ETT_predict/UNet/Fold3\\33_predict.png is a low contrast image\n",
      "  io.imsave(os.path.join(save_path, f\"{i}_predict.png\"), img)\n",
      "d:\\學業\\碩士課程\\機器瘸習\\分組作業\\專題二\\正式版\\package\\function.py:142: UserWarning: ETT_predict/UNet/Fold3\\34_predict.png is a low contrast image\n",
      "  io.imsave(os.path.join(save_path, f\"{i}_predict.png\"), img)\n",
      "d:\\學業\\碩士課程\\機器瘸習\\分組作業\\專題二\\正式版\\package\\function.py:142: UserWarning: ETT_predict/UNet/Fold3\\35_predict.png is a low contrast image\n",
      "  io.imsave(os.path.join(save_path, f\"{i}_predict.png\"), img)\n",
      "d:\\學業\\碩士課程\\機器瘸習\\分組作業\\專題二\\正式版\\package\\function.py:142: UserWarning: ETT_predict/UNet/Fold3\\36_predict.png is a low contrast image\n",
      "  io.imsave(os.path.join(save_path, f\"{i}_predict.png\"), img)\n",
      "d:\\學業\\碩士課程\\機器瘸習\\分組作業\\專題二\\正式版\\package\\function.py:142: UserWarning: ETT_predict/UNet/Fold3\\37_predict.png is a low contrast image\n",
      "  io.imsave(os.path.join(save_path, f\"{i}_predict.png\"), img)\n",
      "d:\\學業\\碩士課程\\機器瘸習\\分組作業\\專題二\\正式版\\package\\function.py:142: UserWarning: ETT_predict/UNet/Fold3\\38_predict.png is a low contrast image\n",
      "  io.imsave(os.path.join(save_path, f\"{i}_predict.png\"), img)\n",
      "d:\\學業\\碩士課程\\機器瘸習\\分組作業\\專題二\\正式版\\package\\function.py:142: UserWarning: ETT_predict/UNet/Fold3\\39_predict.png is a low contrast image\n",
      "  io.imsave(os.path.join(save_path, f\"{i}_predict.png\"), img)\n",
      "d:\\學業\\碩士課程\\機器瘸習\\分組作業\\專題二\\正式版\\package\\function.py:142: UserWarning: ETT_predict/UNet/Fold3\\40_predict.png is a low contrast image\n",
      "  io.imsave(os.path.join(save_path, f\"{i}_predict.png\"), img)\n",
      "d:\\學業\\碩士課程\\機器瘸習\\分組作業\\專題二\\正式版\\package\\function.py:142: UserWarning: ETT_predict/UNet/Fold3\\41_predict.png is a low contrast image\n",
      "  io.imsave(os.path.join(save_path, f\"{i}_predict.png\"), img)\n",
      "d:\\學業\\碩士課程\\機器瘸習\\分組作業\\專題二\\正式版\\package\\function.py:142: UserWarning: ETT_predict/UNet/Fold3\\42_predict.png is a low contrast image\n",
      "  io.imsave(os.path.join(save_path, f\"{i}_predict.png\"), img)\n",
      "d:\\學業\\碩士課程\\機器瘸習\\分組作業\\專題二\\正式版\\package\\function.py:142: UserWarning: ETT_predict/UNet/Fold3\\43_predict.png is a low contrast image\n",
      "  io.imsave(os.path.join(save_path, f\"{i}_predict.png\"), img)\n",
      "d:\\學業\\碩士課程\\機器瘸習\\分組作業\\專題二\\正式版\\package\\function.py:142: UserWarning: ETT_predict/UNet/Fold3\\44_predict.png is a low contrast image\n",
      "  io.imsave(os.path.join(save_path, f\"{i}_predict.png\"), img)\n",
      "d:\\學業\\碩士課程\\機器瘸習\\分組作業\\專題二\\正式版\\package\\function.py:142: UserWarning: ETT_predict/UNet/Fold3\\45_predict.png is a low contrast image\n",
      "  io.imsave(os.path.join(save_path, f\"{i}_predict.png\"), img)\n",
      "d:\\學業\\碩士課程\\機器瘸習\\分組作業\\專題二\\正式版\\package\\function.py:142: UserWarning: ETT_predict/UNet/Fold3\\46_predict.png is a low contrast image\n",
      "  io.imsave(os.path.join(save_path, f\"{i}_predict.png\"), img)\n"
     ]
    },
    {
     "name": "stdout",
     "output_type": "stream",
     "text": [
      "48/48 [==============================] - 1s 15ms/step\n"
     ]
    },
    {
     "name": "stderr",
     "output_type": "stream",
     "text": [
      "d:\\學業\\碩士課程\\機器瘸習\\分組作業\\專題二\\正式版\\package\\function.py:142: UserWarning: ETT_predict/UNet/Fold4\\2_predict.png is a low contrast image\n",
      "  io.imsave(os.path.join(save_path, f\"{i}_predict.png\"), img)\n",
      "d:\\學業\\碩士課程\\機器瘸習\\分組作業\\專題二\\正式版\\package\\function.py:142: UserWarning: ETT_predict/UNet/Fold4\\10_predict.png is a low contrast image\n",
      "  io.imsave(os.path.join(save_path, f\"{i}_predict.png\"), img)\n",
      "d:\\學業\\碩士課程\\機器瘸習\\分組作業\\專題二\\正式版\\package\\function.py:142: UserWarning: ETT_predict/UNet/Fold4\\11_predict.png is a low contrast image\n",
      "  io.imsave(os.path.join(save_path, f\"{i}_predict.png\"), img)\n",
      "d:\\學業\\碩士課程\\機器瘸習\\分組作業\\專題二\\正式版\\package\\function.py:142: UserWarning: ETT_predict/UNet/Fold4\\16_predict.png is a low contrast image\n",
      "  io.imsave(os.path.join(save_path, f\"{i}_predict.png\"), img)\n",
      "d:\\學業\\碩士課程\\機器瘸習\\分組作業\\專題二\\正式版\\package\\function.py:142: UserWarning: ETT_predict/UNet/Fold4\\18_predict.png is a low contrast image\n",
      "  io.imsave(os.path.join(save_path, f\"{i}_predict.png\"), img)\n",
      "d:\\學業\\碩士課程\\機器瘸習\\分組作業\\專題二\\正式版\\package\\function.py:142: UserWarning: ETT_predict/UNet/Fold4\\19_predict.png is a low contrast image\n",
      "  io.imsave(os.path.join(save_path, f\"{i}_predict.png\"), img)\n",
      "d:\\學業\\碩士課程\\機器瘸習\\分組作業\\專題二\\正式版\\package\\function.py:142: UserWarning: ETT_predict/UNet/Fold4\\28_predict.png is a low contrast image\n",
      "  io.imsave(os.path.join(save_path, f\"{i}_predict.png\"), img)\n",
      "d:\\學業\\碩士課程\\機器瘸習\\分組作業\\專題二\\正式版\\package\\function.py:142: UserWarning: ETT_predict/UNet/Fold4\\36_predict.png is a low contrast image\n",
      "  io.imsave(os.path.join(save_path, f\"{i}_predict.png\"), img)\n",
      "d:\\學業\\碩士課程\\機器瘸習\\分組作業\\專題二\\正式版\\package\\function.py:142: UserWarning: ETT_predict/UNet/Fold4\\44_predict.png is a low contrast image\n",
      "  io.imsave(os.path.join(save_path, f\"{i}_predict.png\"), img)\n"
     ]
    },
    {
     "name": "stdout",
     "output_type": "stream",
     "text": [
      "48/48 [==============================] - 1s 15ms/step\n"
     ]
    },
    {
     "name": "stderr",
     "output_type": "stream",
     "text": [
      "d:\\學業\\碩士課程\\機器瘸習\\分組作業\\專題二\\正式版\\package\\function.py:142: UserWarning: ETT_predict/UNet/Fold5\\7_predict.png is a low contrast image\n",
      "  io.imsave(os.path.join(save_path, f\"{i}_predict.png\"), img)\n",
      "d:\\學業\\碩士課程\\機器瘸習\\分組作業\\專題二\\正式版\\package\\function.py:142: UserWarning: ETT_predict/UNet/Fold5\\10_predict.png is a low contrast image\n",
      "  io.imsave(os.path.join(save_path, f\"{i}_predict.png\"), img)\n",
      "d:\\學業\\碩士課程\\機器瘸習\\分組作業\\專題二\\正式版\\package\\function.py:142: UserWarning: ETT_predict/UNet/Fold5\\13_predict.png is a low contrast image\n",
      "  io.imsave(os.path.join(save_path, f\"{i}_predict.png\"), img)\n",
      "d:\\學業\\碩士課程\\機器瘸習\\分組作業\\專題二\\正式版\\package\\function.py:142: UserWarning: ETT_predict/UNet/Fold5\\18_predict.png is a low contrast image\n",
      "  io.imsave(os.path.join(save_path, f\"{i}_predict.png\"), img)\n",
      "d:\\學業\\碩士課程\\機器瘸習\\分組作業\\專題二\\正式版\\package\\function.py:142: UserWarning: ETT_predict/UNet/Fold5\\22_predict.png is a low contrast image\n",
      "  io.imsave(os.path.join(save_path, f\"{i}_predict.png\"), img)\n",
      "d:\\學業\\碩士課程\\機器瘸習\\分組作業\\專題二\\正式版\\package\\function.py:142: UserWarning: ETT_predict/UNet/Fold5\\23_predict.png is a low contrast image\n",
      "  io.imsave(os.path.join(save_path, f\"{i}_predict.png\"), img)\n",
      "d:\\學業\\碩士課程\\機器瘸習\\分組作業\\專題二\\正式版\\package\\function.py:142: UserWarning: ETT_predict/UNet/Fold5\\24_predict.png is a low contrast image\n",
      "  io.imsave(os.path.join(save_path, f\"{i}_predict.png\"), img)\n",
      "d:\\學業\\碩士課程\\機器瘸習\\分組作業\\專題二\\正式版\\package\\function.py:142: UserWarning: ETT_predict/UNet/Fold5\\28_predict.png is a low contrast image\n",
      "  io.imsave(os.path.join(save_path, f\"{i}_predict.png\"), img)\n",
      "d:\\學業\\碩士課程\\機器瘸習\\分組作業\\專題二\\正式版\\package\\function.py:142: UserWarning: ETT_predict/UNet/Fold5\\32_predict.png is a low contrast image\n",
      "  io.imsave(os.path.join(save_path, f\"{i}_predict.png\"), img)\n",
      "d:\\學業\\碩士課程\\機器瘸習\\分組作業\\專題二\\正式版\\package\\function.py:142: UserWarning: ETT_predict/UNet/Fold5\\35_predict.png is a low contrast image\n",
      "  io.imsave(os.path.join(save_path, f\"{i}_predict.png\"), img)\n",
      "d:\\學業\\碩士課程\\機器瘸習\\分組作業\\專題二\\正式版\\package\\function.py:142: UserWarning: ETT_predict/UNet/Fold5\\45_predict.png is a low contrast image\n",
      "  io.imsave(os.path.join(save_path, f\"{i}_predict.png\"), img)\n"
     ]
    }
   ],
   "source": [
    "# 預測 mask\n",
    "for fold in range(1,6):\n",
    "    testGene = test_aug_generator(fold)\n",
    "    model = unet()\n",
    "    model.load_weights(f\"best_model/{modeltype}/Fold{fold}.keras\")\n",
    "    results = model.predict(testGene,verbose=1)\n",
    "    saveResult(f\"ETT_predict/{modeltype}/Fold{fold}\",results)"
   ]
  }
 ],
 "metadata": {
  "kernelspec": {
   "display_name": "Python 3",
   "language": "python",
   "name": "python3"
  },
  "language_info": {
   "codemirror_mode": {
    "name": "ipython",
    "version": 3
   },
   "file_extension": ".py",
   "mimetype": "text/x-python",
   "name": "python",
   "nbconvert_exporter": "python",
   "pygments_lexer": "ipython3",
   "version": "3.10.14"
  }
 },
 "nbformat": 4,
 "nbformat_minor": 2
}
